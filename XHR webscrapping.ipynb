{
 "cells": [
  {
   "cell_type": "code",
   "execution_count": 4,
   "id": "54655c4d",
   "metadata": {},
   "outputs": [],
   "source": [
    "#Importing all the packages \n",
    "import requests\n",
    "import re\n",
    "import pandas as pd\n",
    "from bs4 import BeautifulSoup\n",
    "import requests\n",
    "import json\n",
    "from bs4 import BeautifulSoup\n",
    "from datetime import datetime\n",
    "import seaborn as sns\n",
    "import matplotlib.pyplot as plt\n",
    "import matplotlib as mpl\n",
    "import time\n",
    "import pandas as pd\n",
    "import plotly.express as px\n",
    "import pandas as pd\n",
    "import plotly.graph_objects as go"
   ]
  },
  {
   "cell_type": "markdown",
   "id": "83ec18af",
   "metadata": {},
   "source": [
    "## TASK - 1 \n",
    "<b> <i> Using requests and BeautifulSoup to scrape a static html webpage (if using Python): <i> "
   ]
  },
  {
   "cell_type": "code",
   "execution_count": 9,
   "id": "3497c658",
   "metadata": {},
   "outputs": [
    {
     "name": "stdout",
     "output_type": "stream",
     "text": [
      "Week 1 Introduction and how to get and represent text\n",
      "Week 2 Classification models\n",
      "Week 3 Clustering and topical models\n",
      "Week 4 Word embeddings and language models\n",
      "Week 5 Sentiment analysis I\n",
      "Week 6 Sentiment analysis II\n",
      "Week 7 Text analytics for busisness: case studies\n",
      "Week 8 Final presentation\n"
     ]
    }
   ],
   "source": [
    "url = 'http://yuhenghu.com/ids566.html'\n",
    "    \n",
    "response = requests.get(url)\n",
    "soup = BeautifulSoup(response.text, 'lxml')\n",
    "\n",
    "for w,c in zip(soup.select('td.week'),soup.select('td.content')):\n",
    "    print(w.text,c.text)"
   ]
  },
  {
   "cell_type": "markdown",
   "id": "6c930dff",
   "metadata": {},
   "source": [
    "## TASK - 2\n",
    "Using requests and BeautifulSoup and XHR inspection to scrape a dynamic html webpage (if using Python):\n",
    "  * Write a scraper to retrieve data about month/year and price of this home. Sort by the month/year\n",
    "  * In addition, also plot the price vs. month/year."
   ]
  },
  {
   "cell_type": "code",
   "execution_count": 8,
   "id": "c7daa219",
   "metadata": {},
   "outputs": [
    {
     "name": "stdout",
     "output_type": "stream",
     "text": [
      "        Date    Price\n",
      "0    01/2012   662835\n",
      "1    02/2012   676508\n",
      "2    03/2012   683436\n",
      "3    04/2012   701710\n",
      "4    05/2012   757372\n",
      "..       ...      ...\n",
      "116  09/2021  1679200\n",
      "117  10/2021  1692700\n",
      "118  11/2021  1714100\n",
      "119  12/2021  1742400\n",
      "120  01/2022  2037500\n",
      "\n",
      "[121 rows x 2 columns]\n"
     ]
    },
    {
     "data": {
      "application/vnd.plotly.v1+json": {
       "config": {
        "plotlyServerURL": "https://plot.ly"
       },
       "data": [
        {
         "type": "scatter",
         "x": [
          "01/2012",
          "02/2012",
          "03/2012",
          "04/2012",
          "05/2012",
          "06/2012",
          "07/2012",
          "08/2012",
          "09/2012",
          "10/2012",
          "11/2012",
          "12/2012",
          "01/2013",
          "02/2013",
          "03/2013",
          "04/2013",
          "05/2013",
          "06/2013",
          "07/2013",
          "08/2013",
          "09/2013",
          "10/2013",
          "11/2013",
          "12/2013",
          "01/2014",
          "02/2014",
          "03/2014",
          "04/2014",
          "05/2014",
          "06/2014",
          "07/2014",
          "08/2014",
          "09/2014",
          "10/2014",
          "11/2014",
          "12/2014",
          "01/2015",
          "02/2015",
          "03/2015",
          "04/2015",
          "05/2015",
          "06/2015",
          "07/2015",
          "08/2015",
          "09/2015",
          "10/2015",
          "11/2015",
          "12/2015",
          "01/2016",
          "02/2016",
          "03/2016",
          "04/2016",
          "05/2016",
          "06/2016",
          "07/2016",
          "08/2016",
          "09/2016",
          "10/2016",
          "11/2016",
          "12/2016",
          "01/2017",
          "02/2017",
          "03/2017",
          "04/2017",
          "05/2017",
          "06/2017",
          "07/2017",
          "08/2017",
          "09/2017",
          "10/2017",
          "11/2017",
          "12/2017",
          "01/2018",
          "02/2018",
          "03/2018",
          "04/2018",
          "05/2018",
          "06/2018",
          "07/2018",
          "08/2018",
          "09/2018",
          "10/2018",
          "11/2018",
          "12/2018",
          "01/2019",
          "02/2019",
          "03/2019",
          "04/2019",
          "05/2019",
          "06/2019",
          "07/2019",
          "08/2019",
          "09/2019",
          "10/2019",
          "11/2019",
          "12/2019",
          "01/2020",
          "02/2020",
          "03/2020",
          "04/2020",
          "05/2020",
          "06/2020",
          "07/2020",
          "08/2020",
          "09/2020",
          "10/2020",
          "11/2020",
          "12/2020",
          "01/2021",
          "02/2021",
          "03/2021",
          "04/2021",
          "05/2021",
          "06/2021",
          "07/2021",
          "08/2021",
          "09/2021",
          "10/2021",
          "11/2021",
          "12/2021",
          "01/2022"
         ],
         "y": [
          662835,
          676508,
          683436,
          701710,
          757372,
          791664,
          837452,
          819441,
          823589,
          850539,
          849533,
          879125,
          890332,
          886932,
          904392,
          896300,
          897165,
          912028,
          886645,
          875963,
          880199,
          874728,
          839856,
          849376,
          881952,
          908031,
          901704,
          909642,
          911499,
          913546,
          945354,
          1036243,
          1007003,
          1008483,
          1006598,
          997559,
          1017270,
          1012916,
          1063966,
          1059328,
          1126689,
          1086628,
          1120964,
          1064581,
          1087770,
          1076202,
          1083359,
          1101805,
          1109292,
          1125572,
          1143987,
          1169437,
          1113649,
          1096002,
          1073310,
          1100759,
          1094736,
          1103707,
          1112727,
          1108717,
          1168764,
          1195031,
          1198667,
          1190054,
          1220817,
          1233535,
          1294353,
          1359660,
          1375078,
          1449189,
          1440918,
          1517593,
          1730707,
          1845535,
          1882847,
          1888539,
          1942689,
          1965366,
          1964126,
          1901249,
          1870758,
          1878404,
          1850986,
          1793949,
          1766291,
          1757683,
          1753454,
          1771623,
          1745024,
          1692024,
          1720901,
          1694745,
          1726387,
          1717633,
          1745489,
          1764977,
          1809957,
          1825668,
          1870778,
          1869463,
          1724955,
          1778358,
          1801493,
          1837014,
          1846093,
          1871097,
          1904779,
          1914568,
          1929449,
          1786102,
          1587631,
          1485897,
          1465908,
          1635500,
          1739100,
          1725700,
          1679200,
          1692700,
          1714100,
          1742400,
          2037500
         ]
        }
       ],
       "layout": {
        "template": {
         "data": {
          "bar": [
           {
            "error_x": {
             "color": "#2a3f5f"
            },
            "error_y": {
             "color": "#2a3f5f"
            },
            "marker": {
             "line": {
              "color": "#E5ECF6",
              "width": 0.5
             },
             "pattern": {
              "fillmode": "overlay",
              "size": 10,
              "solidity": 0.2
             }
            },
            "type": "bar"
           }
          ],
          "barpolar": [
           {
            "marker": {
             "line": {
              "color": "#E5ECF6",
              "width": 0.5
             },
             "pattern": {
              "fillmode": "overlay",
              "size": 10,
              "solidity": 0.2
             }
            },
            "type": "barpolar"
           }
          ],
          "carpet": [
           {
            "aaxis": {
             "endlinecolor": "#2a3f5f",
             "gridcolor": "white",
             "linecolor": "white",
             "minorgridcolor": "white",
             "startlinecolor": "#2a3f5f"
            },
            "baxis": {
             "endlinecolor": "#2a3f5f",
             "gridcolor": "white",
             "linecolor": "white",
             "minorgridcolor": "white",
             "startlinecolor": "#2a3f5f"
            },
            "type": "carpet"
           }
          ],
          "choropleth": [
           {
            "colorbar": {
             "outlinewidth": 0,
             "ticks": ""
            },
            "type": "choropleth"
           }
          ],
          "contour": [
           {
            "colorbar": {
             "outlinewidth": 0,
             "ticks": ""
            },
            "colorscale": [
             [
              0,
              "#0d0887"
             ],
             [
              0.1111111111111111,
              "#46039f"
             ],
             [
              0.2222222222222222,
              "#7201a8"
             ],
             [
              0.3333333333333333,
              "#9c179e"
             ],
             [
              0.4444444444444444,
              "#bd3786"
             ],
             [
              0.5555555555555556,
              "#d8576b"
             ],
             [
              0.6666666666666666,
              "#ed7953"
             ],
             [
              0.7777777777777778,
              "#fb9f3a"
             ],
             [
              0.8888888888888888,
              "#fdca26"
             ],
             [
              1,
              "#f0f921"
             ]
            ],
            "type": "contour"
           }
          ],
          "contourcarpet": [
           {
            "colorbar": {
             "outlinewidth": 0,
             "ticks": ""
            },
            "type": "contourcarpet"
           }
          ],
          "heatmap": [
           {
            "colorbar": {
             "outlinewidth": 0,
             "ticks": ""
            },
            "colorscale": [
             [
              0,
              "#0d0887"
             ],
             [
              0.1111111111111111,
              "#46039f"
             ],
             [
              0.2222222222222222,
              "#7201a8"
             ],
             [
              0.3333333333333333,
              "#9c179e"
             ],
             [
              0.4444444444444444,
              "#bd3786"
             ],
             [
              0.5555555555555556,
              "#d8576b"
             ],
             [
              0.6666666666666666,
              "#ed7953"
             ],
             [
              0.7777777777777778,
              "#fb9f3a"
             ],
             [
              0.8888888888888888,
              "#fdca26"
             ],
             [
              1,
              "#f0f921"
             ]
            ],
            "type": "heatmap"
           }
          ],
          "heatmapgl": [
           {
            "colorbar": {
             "outlinewidth": 0,
             "ticks": ""
            },
            "colorscale": [
             [
              0,
              "#0d0887"
             ],
             [
              0.1111111111111111,
              "#46039f"
             ],
             [
              0.2222222222222222,
              "#7201a8"
             ],
             [
              0.3333333333333333,
              "#9c179e"
             ],
             [
              0.4444444444444444,
              "#bd3786"
             ],
             [
              0.5555555555555556,
              "#d8576b"
             ],
             [
              0.6666666666666666,
              "#ed7953"
             ],
             [
              0.7777777777777778,
              "#fb9f3a"
             ],
             [
              0.8888888888888888,
              "#fdca26"
             ],
             [
              1,
              "#f0f921"
             ]
            ],
            "type": "heatmapgl"
           }
          ],
          "histogram": [
           {
            "marker": {
             "pattern": {
              "fillmode": "overlay",
              "size": 10,
              "solidity": 0.2
             }
            },
            "type": "histogram"
           }
          ],
          "histogram2d": [
           {
            "colorbar": {
             "outlinewidth": 0,
             "ticks": ""
            },
            "colorscale": [
             [
              0,
              "#0d0887"
             ],
             [
              0.1111111111111111,
              "#46039f"
             ],
             [
              0.2222222222222222,
              "#7201a8"
             ],
             [
              0.3333333333333333,
              "#9c179e"
             ],
             [
              0.4444444444444444,
              "#bd3786"
             ],
             [
              0.5555555555555556,
              "#d8576b"
             ],
             [
              0.6666666666666666,
              "#ed7953"
             ],
             [
              0.7777777777777778,
              "#fb9f3a"
             ],
             [
              0.8888888888888888,
              "#fdca26"
             ],
             [
              1,
              "#f0f921"
             ]
            ],
            "type": "histogram2d"
           }
          ],
          "histogram2dcontour": [
           {
            "colorbar": {
             "outlinewidth": 0,
             "ticks": ""
            },
            "colorscale": [
             [
              0,
              "#0d0887"
             ],
             [
              0.1111111111111111,
              "#46039f"
             ],
             [
              0.2222222222222222,
              "#7201a8"
             ],
             [
              0.3333333333333333,
              "#9c179e"
             ],
             [
              0.4444444444444444,
              "#bd3786"
             ],
             [
              0.5555555555555556,
              "#d8576b"
             ],
             [
              0.6666666666666666,
              "#ed7953"
             ],
             [
              0.7777777777777778,
              "#fb9f3a"
             ],
             [
              0.8888888888888888,
              "#fdca26"
             ],
             [
              1,
              "#f0f921"
             ]
            ],
            "type": "histogram2dcontour"
           }
          ],
          "mesh3d": [
           {
            "colorbar": {
             "outlinewidth": 0,
             "ticks": ""
            },
            "type": "mesh3d"
           }
          ],
          "parcoords": [
           {
            "line": {
             "colorbar": {
              "outlinewidth": 0,
              "ticks": ""
             }
            },
            "type": "parcoords"
           }
          ],
          "pie": [
           {
            "automargin": true,
            "type": "pie"
           }
          ],
          "scatter": [
           {
            "marker": {
             "colorbar": {
              "outlinewidth": 0,
              "ticks": ""
             }
            },
            "type": "scatter"
           }
          ],
          "scatter3d": [
           {
            "line": {
             "colorbar": {
              "outlinewidth": 0,
              "ticks": ""
             }
            },
            "marker": {
             "colorbar": {
              "outlinewidth": 0,
              "ticks": ""
             }
            },
            "type": "scatter3d"
           }
          ],
          "scattercarpet": [
           {
            "marker": {
             "colorbar": {
              "outlinewidth": 0,
              "ticks": ""
             }
            },
            "type": "scattercarpet"
           }
          ],
          "scattergeo": [
           {
            "marker": {
             "colorbar": {
              "outlinewidth": 0,
              "ticks": ""
             }
            },
            "type": "scattergeo"
           }
          ],
          "scattergl": [
           {
            "marker": {
             "colorbar": {
              "outlinewidth": 0,
              "ticks": ""
             }
            },
            "type": "scattergl"
           }
          ],
          "scattermapbox": [
           {
            "marker": {
             "colorbar": {
              "outlinewidth": 0,
              "ticks": ""
             }
            },
            "type": "scattermapbox"
           }
          ],
          "scatterpolar": [
           {
            "marker": {
             "colorbar": {
              "outlinewidth": 0,
              "ticks": ""
             }
            },
            "type": "scatterpolar"
           }
          ],
          "scatterpolargl": [
           {
            "marker": {
             "colorbar": {
              "outlinewidth": 0,
              "ticks": ""
             }
            },
            "type": "scatterpolargl"
           }
          ],
          "scatterternary": [
           {
            "marker": {
             "colorbar": {
              "outlinewidth": 0,
              "ticks": ""
             }
            },
            "type": "scatterternary"
           }
          ],
          "surface": [
           {
            "colorbar": {
             "outlinewidth": 0,
             "ticks": ""
            },
            "colorscale": [
             [
              0,
              "#0d0887"
             ],
             [
              0.1111111111111111,
              "#46039f"
             ],
             [
              0.2222222222222222,
              "#7201a8"
             ],
             [
              0.3333333333333333,
              "#9c179e"
             ],
             [
              0.4444444444444444,
              "#bd3786"
             ],
             [
              0.5555555555555556,
              "#d8576b"
             ],
             [
              0.6666666666666666,
              "#ed7953"
             ],
             [
              0.7777777777777778,
              "#fb9f3a"
             ],
             [
              0.8888888888888888,
              "#fdca26"
             ],
             [
              1,
              "#f0f921"
             ]
            ],
            "type": "surface"
           }
          ],
          "table": [
           {
            "cells": {
             "fill": {
              "color": "#EBF0F8"
             },
             "line": {
              "color": "white"
             }
            },
            "header": {
             "fill": {
              "color": "#C8D4E3"
             },
             "line": {
              "color": "white"
             }
            },
            "type": "table"
           }
          ]
         },
         "layout": {
          "annotationdefaults": {
           "arrowcolor": "#2a3f5f",
           "arrowhead": 0,
           "arrowwidth": 1
          },
          "autotypenumbers": "strict",
          "coloraxis": {
           "colorbar": {
            "outlinewidth": 0,
            "ticks": ""
           }
          },
          "colorscale": {
           "diverging": [
            [
             0,
             "#8e0152"
            ],
            [
             0.1,
             "#c51b7d"
            ],
            [
             0.2,
             "#de77ae"
            ],
            [
             0.3,
             "#f1b6da"
            ],
            [
             0.4,
             "#fde0ef"
            ],
            [
             0.5,
             "#f7f7f7"
            ],
            [
             0.6,
             "#e6f5d0"
            ],
            [
             0.7,
             "#b8e186"
            ],
            [
             0.8,
             "#7fbc41"
            ],
            [
             0.9,
             "#4d9221"
            ],
            [
             1,
             "#276419"
            ]
           ],
           "sequential": [
            [
             0,
             "#0d0887"
            ],
            [
             0.1111111111111111,
             "#46039f"
            ],
            [
             0.2222222222222222,
             "#7201a8"
            ],
            [
             0.3333333333333333,
             "#9c179e"
            ],
            [
             0.4444444444444444,
             "#bd3786"
            ],
            [
             0.5555555555555556,
             "#d8576b"
            ],
            [
             0.6666666666666666,
             "#ed7953"
            ],
            [
             0.7777777777777778,
             "#fb9f3a"
            ],
            [
             0.8888888888888888,
             "#fdca26"
            ],
            [
             1,
             "#f0f921"
            ]
           ],
           "sequentialminus": [
            [
             0,
             "#0d0887"
            ],
            [
             0.1111111111111111,
             "#46039f"
            ],
            [
             0.2222222222222222,
             "#7201a8"
            ],
            [
             0.3333333333333333,
             "#9c179e"
            ],
            [
             0.4444444444444444,
             "#bd3786"
            ],
            [
             0.5555555555555556,
             "#d8576b"
            ],
            [
             0.6666666666666666,
             "#ed7953"
            ],
            [
             0.7777777777777778,
             "#fb9f3a"
            ],
            [
             0.8888888888888888,
             "#fdca26"
            ],
            [
             1,
             "#f0f921"
            ]
           ]
          },
          "colorway": [
           "#636efa",
           "#EF553B",
           "#00cc96",
           "#ab63fa",
           "#FFA15A",
           "#19d3f3",
           "#FF6692",
           "#B6E880",
           "#FF97FF",
           "#FECB52"
          ],
          "font": {
           "color": "#2a3f5f"
          },
          "geo": {
           "bgcolor": "white",
           "lakecolor": "white",
           "landcolor": "#E5ECF6",
           "showlakes": true,
           "showland": true,
           "subunitcolor": "white"
          },
          "hoverlabel": {
           "align": "left"
          },
          "hovermode": "closest",
          "mapbox": {
           "style": "light"
          },
          "paper_bgcolor": "white",
          "plot_bgcolor": "#E5ECF6",
          "polar": {
           "angularaxis": {
            "gridcolor": "white",
            "linecolor": "white",
            "ticks": ""
           },
           "bgcolor": "#E5ECF6",
           "radialaxis": {
            "gridcolor": "white",
            "linecolor": "white",
            "ticks": ""
           }
          },
          "scene": {
           "xaxis": {
            "backgroundcolor": "#E5ECF6",
            "gridcolor": "white",
            "gridwidth": 2,
            "linecolor": "white",
            "showbackground": true,
            "ticks": "",
            "zerolinecolor": "white"
           },
           "yaxis": {
            "backgroundcolor": "#E5ECF6",
            "gridcolor": "white",
            "gridwidth": 2,
            "linecolor": "white",
            "showbackground": true,
            "ticks": "",
            "zerolinecolor": "white"
           },
           "zaxis": {
            "backgroundcolor": "#E5ECF6",
            "gridcolor": "white",
            "gridwidth": 2,
            "linecolor": "white",
            "showbackground": true,
            "ticks": "",
            "zerolinecolor": "white"
           }
          },
          "shapedefaults": {
           "line": {
            "color": "#2a3f5f"
           }
          },
          "ternary": {
           "aaxis": {
            "gridcolor": "white",
            "linecolor": "white",
            "ticks": ""
           },
           "baxis": {
            "gridcolor": "white",
            "linecolor": "white",
            "ticks": ""
           },
           "bgcolor": "#E5ECF6",
           "caxis": {
            "gridcolor": "white",
            "linecolor": "white",
            "ticks": ""
           }
          },
          "title": {
           "x": 0.05
          },
          "xaxis": {
           "automargin": true,
           "gridcolor": "white",
           "linecolor": "white",
           "ticks": "",
           "title": {
            "standoff": 15
           },
           "zerolinecolor": "white",
           "zerolinewidth": 2
          },
          "yaxis": {
           "automargin": true,
           "gridcolor": "white",
           "linecolor": "white",
           "ticks": "",
           "title": {
            "standoff": 15
           },
           "zerolinecolor": "white",
           "zerolinewidth": 2
          }
         }
        }
       }
      },
      "text/html": [
       "<div>                            <div id=\"8414b93b-eeab-4806-8949-fa8cd04bc025\" class=\"plotly-graph-div\" style=\"height:525px; width:100%;\"></div>            <script type=\"text/javascript\">                require([\"plotly\"], function(Plotly) {                    window.PLOTLYENV=window.PLOTLYENV || {};                                    if (document.getElementById(\"8414b93b-eeab-4806-8949-fa8cd04bc025\")) {                    Plotly.newPlot(                        \"8414b93b-eeab-4806-8949-fa8cd04bc025\",                        [{\"type\":\"scatter\",\"x\":[\"01/2012\",\"02/2012\",\"03/2012\",\"04/2012\",\"05/2012\",\"06/2012\",\"07/2012\",\"08/2012\",\"09/2012\",\"10/2012\",\"11/2012\",\"12/2012\",\"01/2013\",\"02/2013\",\"03/2013\",\"04/2013\",\"05/2013\",\"06/2013\",\"07/2013\",\"08/2013\",\"09/2013\",\"10/2013\",\"11/2013\",\"12/2013\",\"01/2014\",\"02/2014\",\"03/2014\",\"04/2014\",\"05/2014\",\"06/2014\",\"07/2014\",\"08/2014\",\"09/2014\",\"10/2014\",\"11/2014\",\"12/2014\",\"01/2015\",\"02/2015\",\"03/2015\",\"04/2015\",\"05/2015\",\"06/2015\",\"07/2015\",\"08/2015\",\"09/2015\",\"10/2015\",\"11/2015\",\"12/2015\",\"01/2016\",\"02/2016\",\"03/2016\",\"04/2016\",\"05/2016\",\"06/2016\",\"07/2016\",\"08/2016\",\"09/2016\",\"10/2016\",\"11/2016\",\"12/2016\",\"01/2017\",\"02/2017\",\"03/2017\",\"04/2017\",\"05/2017\",\"06/2017\",\"07/2017\",\"08/2017\",\"09/2017\",\"10/2017\",\"11/2017\",\"12/2017\",\"01/2018\",\"02/2018\",\"03/2018\",\"04/2018\",\"05/2018\",\"06/2018\",\"07/2018\",\"08/2018\",\"09/2018\",\"10/2018\",\"11/2018\",\"12/2018\",\"01/2019\",\"02/2019\",\"03/2019\",\"04/2019\",\"05/2019\",\"06/2019\",\"07/2019\",\"08/2019\",\"09/2019\",\"10/2019\",\"11/2019\",\"12/2019\",\"01/2020\",\"02/2020\",\"03/2020\",\"04/2020\",\"05/2020\",\"06/2020\",\"07/2020\",\"08/2020\",\"09/2020\",\"10/2020\",\"11/2020\",\"12/2020\",\"01/2021\",\"02/2021\",\"03/2021\",\"04/2021\",\"05/2021\",\"06/2021\",\"07/2021\",\"08/2021\",\"09/2021\",\"10/2021\",\"11/2021\",\"12/2021\",\"01/2022\"],\"y\":[662835,676508,683436,701710,757372,791664,837452,819441,823589,850539,849533,879125,890332,886932,904392,896300,897165,912028,886645,875963,880199,874728,839856,849376,881952,908031,901704,909642,911499,913546,945354,1036243,1007003,1008483,1006598,997559,1017270,1012916,1063966,1059328,1126689,1086628,1120964,1064581,1087770,1076202,1083359,1101805,1109292,1125572,1143987,1169437,1113649,1096002,1073310,1100759,1094736,1103707,1112727,1108717,1168764,1195031,1198667,1190054,1220817,1233535,1294353,1359660,1375078,1449189,1440918,1517593,1730707,1845535,1882847,1888539,1942689,1965366,1964126,1901249,1870758,1878404,1850986,1793949,1766291,1757683,1753454,1771623,1745024,1692024,1720901,1694745,1726387,1717633,1745489,1764977,1809957,1825668,1870778,1869463,1724955,1778358,1801493,1837014,1846093,1871097,1904779,1914568,1929449,1786102,1587631,1485897,1465908,1635500,1739100,1725700,1679200,1692700,1714100,1742400,2037500]}],                        {\"template\":{\"data\":{\"bar\":[{\"error_x\":{\"color\":\"#2a3f5f\"},\"error_y\":{\"color\":\"#2a3f5f\"},\"marker\":{\"line\":{\"color\":\"#E5ECF6\",\"width\":0.5},\"pattern\":{\"fillmode\":\"overlay\",\"size\":10,\"solidity\":0.2}},\"type\":\"bar\"}],\"barpolar\":[{\"marker\":{\"line\":{\"color\":\"#E5ECF6\",\"width\":0.5},\"pattern\":{\"fillmode\":\"overlay\",\"size\":10,\"solidity\":0.2}},\"type\":\"barpolar\"}],\"carpet\":[{\"aaxis\":{\"endlinecolor\":\"#2a3f5f\",\"gridcolor\":\"white\",\"linecolor\":\"white\",\"minorgridcolor\":\"white\",\"startlinecolor\":\"#2a3f5f\"},\"baxis\":{\"endlinecolor\":\"#2a3f5f\",\"gridcolor\":\"white\",\"linecolor\":\"white\",\"minorgridcolor\":\"white\",\"startlinecolor\":\"#2a3f5f\"},\"type\":\"carpet\"}],\"choropleth\":[{\"colorbar\":{\"outlinewidth\":0,\"ticks\":\"\"},\"type\":\"choropleth\"}],\"contour\":[{\"colorbar\":{\"outlinewidth\":0,\"ticks\":\"\"},\"colorscale\":[[0.0,\"#0d0887\"],[0.1111111111111111,\"#46039f\"],[0.2222222222222222,\"#7201a8\"],[0.3333333333333333,\"#9c179e\"],[0.4444444444444444,\"#bd3786\"],[0.5555555555555556,\"#d8576b\"],[0.6666666666666666,\"#ed7953\"],[0.7777777777777778,\"#fb9f3a\"],[0.8888888888888888,\"#fdca26\"],[1.0,\"#f0f921\"]],\"type\":\"contour\"}],\"contourcarpet\":[{\"colorbar\":{\"outlinewidth\":0,\"ticks\":\"\"},\"type\":\"contourcarpet\"}],\"heatmap\":[{\"colorbar\":{\"outlinewidth\":0,\"ticks\":\"\"},\"colorscale\":[[0.0,\"#0d0887\"],[0.1111111111111111,\"#46039f\"],[0.2222222222222222,\"#7201a8\"],[0.3333333333333333,\"#9c179e\"],[0.4444444444444444,\"#bd3786\"],[0.5555555555555556,\"#d8576b\"],[0.6666666666666666,\"#ed7953\"],[0.7777777777777778,\"#fb9f3a\"],[0.8888888888888888,\"#fdca26\"],[1.0,\"#f0f921\"]],\"type\":\"heatmap\"}],\"heatmapgl\":[{\"colorbar\":{\"outlinewidth\":0,\"ticks\":\"\"},\"colorscale\":[[0.0,\"#0d0887\"],[0.1111111111111111,\"#46039f\"],[0.2222222222222222,\"#7201a8\"],[0.3333333333333333,\"#9c179e\"],[0.4444444444444444,\"#bd3786\"],[0.5555555555555556,\"#d8576b\"],[0.6666666666666666,\"#ed7953\"],[0.7777777777777778,\"#fb9f3a\"],[0.8888888888888888,\"#fdca26\"],[1.0,\"#f0f921\"]],\"type\":\"heatmapgl\"}],\"histogram\":[{\"marker\":{\"pattern\":{\"fillmode\":\"overlay\",\"size\":10,\"solidity\":0.2}},\"type\":\"histogram\"}],\"histogram2d\":[{\"colorbar\":{\"outlinewidth\":0,\"ticks\":\"\"},\"colorscale\":[[0.0,\"#0d0887\"],[0.1111111111111111,\"#46039f\"],[0.2222222222222222,\"#7201a8\"],[0.3333333333333333,\"#9c179e\"],[0.4444444444444444,\"#bd3786\"],[0.5555555555555556,\"#d8576b\"],[0.6666666666666666,\"#ed7953\"],[0.7777777777777778,\"#fb9f3a\"],[0.8888888888888888,\"#fdca26\"],[1.0,\"#f0f921\"]],\"type\":\"histogram2d\"}],\"histogram2dcontour\":[{\"colorbar\":{\"outlinewidth\":0,\"ticks\":\"\"},\"colorscale\":[[0.0,\"#0d0887\"],[0.1111111111111111,\"#46039f\"],[0.2222222222222222,\"#7201a8\"],[0.3333333333333333,\"#9c179e\"],[0.4444444444444444,\"#bd3786\"],[0.5555555555555556,\"#d8576b\"],[0.6666666666666666,\"#ed7953\"],[0.7777777777777778,\"#fb9f3a\"],[0.8888888888888888,\"#fdca26\"],[1.0,\"#f0f921\"]],\"type\":\"histogram2dcontour\"}],\"mesh3d\":[{\"colorbar\":{\"outlinewidth\":0,\"ticks\":\"\"},\"type\":\"mesh3d\"}],\"parcoords\":[{\"line\":{\"colorbar\":{\"outlinewidth\":0,\"ticks\":\"\"}},\"type\":\"parcoords\"}],\"pie\":[{\"automargin\":true,\"type\":\"pie\"}],\"scatter\":[{\"marker\":{\"colorbar\":{\"outlinewidth\":0,\"ticks\":\"\"}},\"type\":\"scatter\"}],\"scatter3d\":[{\"line\":{\"colorbar\":{\"outlinewidth\":0,\"ticks\":\"\"}},\"marker\":{\"colorbar\":{\"outlinewidth\":0,\"ticks\":\"\"}},\"type\":\"scatter3d\"}],\"scattercarpet\":[{\"marker\":{\"colorbar\":{\"outlinewidth\":0,\"ticks\":\"\"}},\"type\":\"scattercarpet\"}],\"scattergeo\":[{\"marker\":{\"colorbar\":{\"outlinewidth\":0,\"ticks\":\"\"}},\"type\":\"scattergeo\"}],\"scattergl\":[{\"marker\":{\"colorbar\":{\"outlinewidth\":0,\"ticks\":\"\"}},\"type\":\"scattergl\"}],\"scattermapbox\":[{\"marker\":{\"colorbar\":{\"outlinewidth\":0,\"ticks\":\"\"}},\"type\":\"scattermapbox\"}],\"scatterpolar\":[{\"marker\":{\"colorbar\":{\"outlinewidth\":0,\"ticks\":\"\"}},\"type\":\"scatterpolar\"}],\"scatterpolargl\":[{\"marker\":{\"colorbar\":{\"outlinewidth\":0,\"ticks\":\"\"}},\"type\":\"scatterpolargl\"}],\"scatterternary\":[{\"marker\":{\"colorbar\":{\"outlinewidth\":0,\"ticks\":\"\"}},\"type\":\"scatterternary\"}],\"surface\":[{\"colorbar\":{\"outlinewidth\":0,\"ticks\":\"\"},\"colorscale\":[[0.0,\"#0d0887\"],[0.1111111111111111,\"#46039f\"],[0.2222222222222222,\"#7201a8\"],[0.3333333333333333,\"#9c179e\"],[0.4444444444444444,\"#bd3786\"],[0.5555555555555556,\"#d8576b\"],[0.6666666666666666,\"#ed7953\"],[0.7777777777777778,\"#fb9f3a\"],[0.8888888888888888,\"#fdca26\"],[1.0,\"#f0f921\"]],\"type\":\"surface\"}],\"table\":[{\"cells\":{\"fill\":{\"color\":\"#EBF0F8\"},\"line\":{\"color\":\"white\"}},\"header\":{\"fill\":{\"color\":\"#C8D4E3\"},\"line\":{\"color\":\"white\"}},\"type\":\"table\"}]},\"layout\":{\"annotationdefaults\":{\"arrowcolor\":\"#2a3f5f\",\"arrowhead\":0,\"arrowwidth\":1},\"autotypenumbers\":\"strict\",\"coloraxis\":{\"colorbar\":{\"outlinewidth\":0,\"ticks\":\"\"}},\"colorscale\":{\"diverging\":[[0,\"#8e0152\"],[0.1,\"#c51b7d\"],[0.2,\"#de77ae\"],[0.3,\"#f1b6da\"],[0.4,\"#fde0ef\"],[0.5,\"#f7f7f7\"],[0.6,\"#e6f5d0\"],[0.7,\"#b8e186\"],[0.8,\"#7fbc41\"],[0.9,\"#4d9221\"],[1,\"#276419\"]],\"sequential\":[[0.0,\"#0d0887\"],[0.1111111111111111,\"#46039f\"],[0.2222222222222222,\"#7201a8\"],[0.3333333333333333,\"#9c179e\"],[0.4444444444444444,\"#bd3786\"],[0.5555555555555556,\"#d8576b\"],[0.6666666666666666,\"#ed7953\"],[0.7777777777777778,\"#fb9f3a\"],[0.8888888888888888,\"#fdca26\"],[1.0,\"#f0f921\"]],\"sequentialminus\":[[0.0,\"#0d0887\"],[0.1111111111111111,\"#46039f\"],[0.2222222222222222,\"#7201a8\"],[0.3333333333333333,\"#9c179e\"],[0.4444444444444444,\"#bd3786\"],[0.5555555555555556,\"#d8576b\"],[0.6666666666666666,\"#ed7953\"],[0.7777777777777778,\"#fb9f3a\"],[0.8888888888888888,\"#fdca26\"],[1.0,\"#f0f921\"]]},\"colorway\":[\"#636efa\",\"#EF553B\",\"#00cc96\",\"#ab63fa\",\"#FFA15A\",\"#19d3f3\",\"#FF6692\",\"#B6E880\",\"#FF97FF\",\"#FECB52\"],\"font\":{\"color\":\"#2a3f5f\"},\"geo\":{\"bgcolor\":\"white\",\"lakecolor\":\"white\",\"landcolor\":\"#E5ECF6\",\"showlakes\":true,\"showland\":true,\"subunitcolor\":\"white\"},\"hoverlabel\":{\"align\":\"left\"},\"hovermode\":\"closest\",\"mapbox\":{\"style\":\"light\"},\"paper_bgcolor\":\"white\",\"plot_bgcolor\":\"#E5ECF6\",\"polar\":{\"angularaxis\":{\"gridcolor\":\"white\",\"linecolor\":\"white\",\"ticks\":\"\"},\"bgcolor\":\"#E5ECF6\",\"radialaxis\":{\"gridcolor\":\"white\",\"linecolor\":\"white\",\"ticks\":\"\"}},\"scene\":{\"xaxis\":{\"backgroundcolor\":\"#E5ECF6\",\"gridcolor\":\"white\",\"gridwidth\":2,\"linecolor\":\"white\",\"showbackground\":true,\"ticks\":\"\",\"zerolinecolor\":\"white\"},\"yaxis\":{\"backgroundcolor\":\"#E5ECF6\",\"gridcolor\":\"white\",\"gridwidth\":2,\"linecolor\":\"white\",\"showbackground\":true,\"ticks\":\"\",\"zerolinecolor\":\"white\"},\"zaxis\":{\"backgroundcolor\":\"#E5ECF6\",\"gridcolor\":\"white\",\"gridwidth\":2,\"linecolor\":\"white\",\"showbackground\":true,\"ticks\":\"\",\"zerolinecolor\":\"white\"}},\"shapedefaults\":{\"line\":{\"color\":\"#2a3f5f\"}},\"ternary\":{\"aaxis\":{\"gridcolor\":\"white\",\"linecolor\":\"white\",\"ticks\":\"\"},\"baxis\":{\"gridcolor\":\"white\",\"linecolor\":\"white\",\"ticks\":\"\"},\"bgcolor\":\"#E5ECF6\",\"caxis\":{\"gridcolor\":\"white\",\"linecolor\":\"white\",\"ticks\":\"\"}},\"title\":{\"x\":0.05},\"xaxis\":{\"automargin\":true,\"gridcolor\":\"white\",\"linecolor\":\"white\",\"ticks\":\"\",\"title\":{\"standoff\":15},\"zerolinecolor\":\"white\",\"zerolinewidth\":2},\"yaxis\":{\"automargin\":true,\"gridcolor\":\"white\",\"linecolor\":\"white\",\"ticks\":\"\",\"title\":{\"standoff\":15},\"zerolinecolor\":\"white\",\"zerolinewidth\":2}}}},                        {\"responsive\": true}                    ).then(function(){\n",
       "                            \n",
       "var gd = document.getElementById('8414b93b-eeab-4806-8949-fa8cd04bc025');\n",
       "var x = new MutationObserver(function (mutations, observer) {{\n",
       "        var display = window.getComputedStyle(gd).display;\n",
       "        if (!display || display === 'none') {{\n",
       "            console.log([gd, 'removed!']);\n",
       "            Plotly.purge(gd);\n",
       "            observer.disconnect();\n",
       "        }}\n",
       "}});\n",
       "\n",
       "// Listen for the removal of the full notebook cells\n",
       "var notebookContainer = gd.closest('#notebook-container');\n",
       "if (notebookContainer) {{\n",
       "    x.observe(notebookContainer, {childList: true});\n",
       "}}\n",
       "\n",
       "// Listen for the clearing of the current output cell\n",
       "var outputEl = gd.closest('.output');\n",
       "if (outputEl) {{\n",
       "    x.observe(outputEl, {childList: true});\n",
       "}}\n",
       "\n",
       "                        })                };                });            </script>        </div>"
      ]
     },
     "metadata": {},
     "output_type": "display_data"
    },
    {
     "name": "stdout",
     "output_type": "stream",
     "text": [
      "None\n"
     ]
    },
    {
     "data": {
      "image/png": "[encoded data removed]",
      "text/plain": [
       "<Figure size 720x360 with 1 Axes>"
      ]
     },
     "metadata": {},
     "output_type": "display_data"
    }
   ],
   "source": [
    "url = 'https://www.zillow.com/graphql/'\n",
    "\n",
    "headers = {'authority': 'www.zillow.com', 'method':'POST', 'path': '/graphql/?zpid=19620225&operationName=WalkAndTransitScoreQuery', 'scheme': 'https', 'accept-encoding': 'gzip, deflate, br', 'content-length': '389', 'content-type': 'text/plain', 'accept-language': 'en-US,en;q=0.9', 'cookie': 'zguid=23|%244b1e8217-696a-4ac5-b616-fc06bc533ce7; zgsession=1|d4ef509c-37b8-4d44-91ec-18dd70bb6fc3; JSESSIONID=4AED0C9FF8457DA38546CF370FDCED12; _pxvid=fbf95074-766f-11ec-ae14-6b6a66714f63; _pxff_bsco=1; g_state={\"i_p\":1642305462036,\"i_l\":1}; _px3=0b5ae20c8495ec6fac17d1bfe0298416db683e9a7e147ebd90bbe0d277b6ce50:j5lDXccXxFGFHM9SBKLQo6wBCEAkhWlj2IzQjtSpq57CGa6YdGYRd4FED/XIemKSqLcadX+J/qHhXVmyWlivWQ==:1000:11j59kMkkLARQbXe4unew+BA3AIfmtFoUIMXBPSadnYBBdIw6lgkQY/WGv1GQwbk800Ptfd/AYMqOCBthkgXqcXbhHmco0ty46zNV7URfGRVYGMFx8lgRzuvvPucyX7sqmW6geRQln+RpxbQJzXYq6oE+Wx6TCWDtwuOY5cJUAcMn5TgZxQNgA4+0uFD3Fbll5fGWGyiInlN59lEBkzHgg==; search=6|1644890475250%7Crect%3D37.36927041894877%252C-121.89459800720215%252C37.28327268915797%252C-122.16444969177246%26zpid%3D19620225%26disp%3Dmap%26mdm%3Dauto%26p%3D1%26sort%3Ddays%26z%3D1%26fs%3D1%26fr%3D0%26mmm%3D0%26rs%3D0%26ah%3D0%26singlestory%3D0%26housing-connector%3D0%26abo%3D0%26garage%3D0%26pool%3D0%26ac%3D0%26waterfront%3D0%26finished%3D0%26unfinished%3D0%26cityview%3D0%26mountainview%3D0%26parkview%3D0%26waterview%3D0%26hoadata%3D1%26zillow-owned%3D0%263dhome%3D0%26featuredMultiFamilyBuilding%3D0%09%09%09%09%09%09%09%09; AWSALB=DpzOEl8bgZFq3hikl+BG8QjUmH0uGb1zDC5uhkxptLdkNdt+nKfcXLsXbnvluDH1FqqL/rEZakoTtsAN2hhb1ntnnlvP28kv3mzI7WIWuuDNH6A1aZSYifvD7jsS; AWSALBCORS=DpzOEl8bgZFq3hikl+BG8QjUmH0uGb1zDC5uhkxptLdkNdt+nKfcXLsXbnvluDH1FqqL/rEZakoTtsAN2hhb1ntnnlvP28kv3mzI7WIWuuDNH6A1aZSYifvD7jsS','origin': 'https://www.zillow.com','user-agent': 'Mozilla/5.0 (Windows NT 10.0; Win64; x64) AppleWebKit/537.36 (KHTML, like Gecko) Chrome/97.0.4692.71 Safari/537.36'}\n",
    "\n",
    "def json_HomeValueChartData(zpid):\n",
    "    #this is payload, i.e., the query sent to zillow server\n",
    "\n",
    "    chartData = {\"operationName\":\"HomeValueChartDataQuery\",\"variables\":{\"zpid\":00000},\"query\":\"query HomeValueChartDataQuery($zpid: ID!, $metricType: HomeValueChartMetricType, $timePeriod: HomeValueChartTimePeriod, $useNewChartAPI: Boolean) {\\n  property(zpid: $zpid) {\\n    homeValueChartData(metricType: $metricType, timePeriod: $timePeriod, useNewChartAPI: $useNewChartAPI) {\\n      points {\\n        x\\n        y\\n      }\\n      name\\n    }\\n  }\\n}\\n\",\"clientVersion\":\"home-details/6.0.11.6969.master.4463e00\"}\n",
    "    chartData['variables']['zpid']=zpid\n",
    "    return chartData\n",
    "\n",
    "def get_json_ChartData(zpid):\n",
    "    chartData = json_HomeValueChartData(zpid)\n",
    "    \n",
    "    try:\n",
    "        chart_req = requests.post(url=url, json=chartData, headers=headers) #send request to zillow server\n",
    "        chart_out = json.loads(chart_req.text) #get the response from zillow server and load as json object\n",
    "        chart_data = chart_out['data']['property']['homeValueChartData'] #Extracting x and y coordinates\n",
    "        xy = chart_data[0]['points'] \n",
    "        date_1 =[(xy[i]['x']) for i in range(len(xy))]\n",
    "        date = [(time.strftime('%m/%Y', time.gmtime(t/1000.0))) for t in date_1]  \n",
    "        price =[(xy[i]['y']) for i in range(len(xy))]\n",
    "        dp = list(zip(date,price))\n",
    "        df = pd.DataFrame (dp, columns = ['Date','Price'])\n",
    "        print(df)\n",
    "        \n",
    "        #Plotting graphs\n",
    "        plt.rcParams['figure.figsize'] = [10, 5]\n",
    "        plt.style.use('seaborn-whitegrid')\n",
    "        fig = go.Figure([go.Scatter(x=df['Date'], y=df['Price'])])\n",
    "        fig.show()\n",
    "\n",
    "        ax = df.plot('Date' , 'Price',xlim=0)\n",
    "        ax.yaxis.set_major_formatter(mpl.ticker.StrMethodFormatter('{x:,.0f}'))\n",
    "        ax.set_xlabel('Month/Year',size = 'x-large',family = 'fantasy')\n",
    "        ax.set_ylim([500000,2200000])\n",
    "        \n",
    "    except Exception as e:\n",
    "        print ('Error, try again', e)\n",
    "\n",
    "\n",
    "    \n",
    "print(get_json_ChartData(19620225)) \n"
   ]
  }
 ],
 "metadata": {
  "kernelspec": {
   "display_name": "Python 3",
   "language": "python",
   "name": "python3"
  },
  "language_info": {
   "codemirror_mode": {
    "name": "ipython",
    "version": 3
   },
   "file_extension": ".py",
   "mimetype": "text/x-python",
   "name": "python",
   "nbconvert_exporter": "python",
   "pygments_lexer": "ipython3",
   "version": "3.8.8"
  }
 },
 "nbformat": 4,
 "nbformat_minor": 5
}
